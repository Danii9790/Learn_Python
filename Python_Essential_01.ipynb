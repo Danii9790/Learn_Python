{
  "nbformat": 4,
  "nbformat_minor": 0,
  "metadata": {
    "colab": {
      "provenance": [],
      "authorship_tag": "ABX9TyPh7dm/ZC658QjJMsdwRYQn",
      "include_colab_link": true
    },
    "kernelspec": {
      "name": "python3",
      "display_name": "Python 3"
    },
    "language_info": {
      "name": "python"
    }
  },
  "cells": [
    {
      "cell_type": "markdown",
      "metadata": {
        "id": "view-in-github",
        "colab_type": "text"
      },
      "source": [
        "<a href=\"https://colab.research.google.com/github/Danii9790/Learn_Python/blob/main/Python_Essential_01.ipynb\" target=\"_parent\"><img src=\"https://colab.research.google.com/assets/colab-badge.svg\" alt=\"Open In Colab\"/></a>"
      ]
    },
    {
      "cell_type": "markdown",
      "source": [
        "# **While Loop**"
      ],
      "metadata": {
        "id": "urG7mZwlavvq"
      }
    },
    {
      "cell_type": "code",
      "execution_count": null,
      "metadata": {
        "colab": {
          "base_uri": "https://localhost:8080/"
        },
        "id": "p-4tLT6dYL31",
        "outputId": "581fea4d-104a-41a6-ee3b-81aff72e18d3"
      },
      "outputs": [
        {
          "output_type": "stream",
          "name": "stdout",
          "text": [
            "Enter the number or type 0 to stop: 2\n",
            "Enter the number or type 0 to stop: 4\n",
            "Enter the number or type 0 to stop: 3\n",
            "Enter the number or type 0 to stop: 7\n",
            "Enter the number or type 0 to stop: 0\n",
            "Even numbers:  2\n",
            "Odd numbers:  2\n"
          ]
        }
      ],
      "source": [
        "even_number = 0\n",
        "odd_number = 0\n",
        "\n",
        "number = int(input(\"Enter the number or type 0 to stop: \"))\n",
        "\n",
        "while number != 0:\n",
        "  if number % 2 == 0:\n",
        "    even_number +=1\n",
        "  else:\n",
        "    odd_number +=1\n",
        "\n",
        "  number = int(input(\"Enter the number or type 0 to stop: \"))\n",
        "\n",
        "print(\"Even numbers: \", even_number)\n",
        "print(\"Odd numbers: \", odd_number)"
      ]
    },
    {
      "cell_type": "code",
      "source": [
        "counter = 5\n",
        "\n",
        "while counter !=0:\n",
        "  print(\"Inside the loop.\",counter)\n",
        "  counter -=1\n",
        "print(\"Outside the loop.\",counter)"
      ],
      "metadata": {
        "colab": {
          "base_uri": "https://localhost:8080/"
        },
        "id": "k0DrW3w6avFF",
        "outputId": "ff979408-9a58-49a5-9cdb-fb00edd52b7d"
      },
      "execution_count": null,
      "outputs": [
        {
          "output_type": "stream",
          "name": "stdout",
          "text": [
            "Inside the loop. 5\n",
            "Inside the loop. 4\n",
            "Inside the loop. 3\n",
            "Inside the loop. 2\n",
            "Inside the loop. 1\n",
            "Outside the loop. 0\n"
          ]
        }
      ]
    },
    {
      "cell_type": "markdown",
      "source": [
        "# Using While Loop write a Guess game program.\n",
        "\n",
        "> Add blockquote\n",
        "\n"
      ],
      "metadata": {
        "id": "jGszan7ybjMk"
      }
    },
    {
      "cell_type": "code",
      "source": [
        "secret_number = 77\n",
        "number = int(input(\"Enter a Number : \"))\n",
        "while number != secret_number:\n",
        "  print(\"Ha ha! You're stuck in my loop!\")\n",
        "  number = int(input(\"Enter a Number : \"))\n",
        "\n",
        "print(number)\n",
        "print(\"Well done, muggle! You are free now.\")"
      ],
      "metadata": {
        "colab": {
          "base_uri": "https://localhost:8080/"
        },
        "id": "BtU065FVb34i",
        "outputId": "cf13936c-ec0b-48bb-b6df-0a2bf8af399e"
      },
      "execution_count": null,
      "outputs": [
        {
          "output_type": "stream",
          "name": "stdout",
          "text": [
            "Enter a Number : 5\n",
            "Ha ha! You're stuck in my loop!\n",
            "Enter a Number : 77\n",
            "77\n",
            "Well done, muggle! You are free now.\n"
          ]
        }
      ]
    }
  ]
}